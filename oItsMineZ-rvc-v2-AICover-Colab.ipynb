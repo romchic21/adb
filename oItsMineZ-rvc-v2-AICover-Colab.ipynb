{
  "cells": [
    {
      "cell_type": "markdown",
      "metadata": {
        "id": "8E_rHPYQcP6v"
      },
      "source": [
        "## **oItsMineZ RVC v2 Colab** **(AI Cover Edition** 🎙**)**\n",
        "- [![Original Notebook](https://img.shields.io/badge/Original_notebook-_CoverGen_No_UI.ipynb-black?style=for-the-badge&logo=github&logoColor=white)](https://github.com/ardha27/AICoverGen-NoUI-Colab/blob/main/CoverGen_No_UI.ipynb)\n",
        "- [![Tutorial Video](https://img.shields.io/badge/Youtube-_Tutorial-FF0000?style=for-the-badge&logo=youtube&logoColor=white)](https://www.youtube.com/@oItsMineZ)\n",
        "- [![oItsMineZ's RVC Model](https://img.shields.io/badge/%F0%9F%A4%97_Hugging_Face-_oItsMineZ's%20RVC%20%20Model-yellow?style=for-the-badge&logoColor=yellow)](https://huggingface.co/oItsMineZ/oItsMineZ-RVC-Model)"
      ]
    },
    {
      "cell_type": "markdown",
      "metadata": {
        "id": "3iw8zMHncyyP"
      },
      "source": [
        "## **Follow Me 💎**\n",
        "- 🔴 Youtube\n",
        "\n",
        "> [![oItsMineZ on Youtube](https://img.shields.io/badge/YouTube-FF0000?style=for-the-badge&logo=youtube&logoColor=white)](bit.ly/oItsMineZ)\n",
        "\n",
        "- 📱 Tiktok\n",
        "\n",
        "> [![oItsMineZ on Tiktok](https://img.shields.io/badge/TikTok-000000?style=for-the-badge&logo=tiktok&logoColor=white)](https://www.tiktok.com/@oitsminez)\n",
        "\n",
        "\n",
        "\n"
      ]
    },
    {
      "cell_type": "markdown",
      "source": [
        "## **ข้อควรรู้**\n",
        "\n",
        "- RVC v2 (Retrieval Based Voice Conversion v2) เป็น AI Voice Model ที่ปรับปรุงมาจาก VITS ที่ทำให้เทรนโมเดลได้ง่ายขึ้น และคุณภาพของเสียงดีขึ้น\n",
        "- Notebook นี้ใช้สำหรับเฉพาะ **AI Cover** เพลงเท่านั้น! ถ้าอยากใช้เฉพาะเสียงพูดให้ใช้ [**ตัวนี้แทน**](https://huggingface.co/spaces/oItsMineZ/RVC-v2-WebUI)\n",
        "- บางเพลงอาจ**ใช้เวลานานมากๆ** ขึ้นอยู่กับความยาวหรือขนาดไฟล์เพลง (จากที่ผมลองเพลงของ [**OneRepublic - Counting Stars**](https://youtu.be/hT_nvWreIhg) ใช้เวลา 55 นาที 😱)\n",
        "\n",
        "## **ขั้นตอนเบื้องต้น**\n",
        "\n",
        "**ใช้ไฟล์เสียงของตัวเอง**\n",
        "- สร้างโฟเดอร์ใน Google Drive ในบัญชีที่ใช้ Google Colab ชื่อว่า ***oitsminez-rvc-v2***\n",
        "- ในโฟเดอร์ ***oitsminez-rvc-v2*** ให้สร้างโฟเดอร์ชื่อว่า ***song_input*** แล้วอัปโหลดไฟล์เสียง (ที่มีเฉพาะ Vocal) ***นามสกุล .wma เท่านั้น*** ลงในโฟเดอร์ ***oitsminez-rvc-v2***\n",
        "\n",
        "**ใช้ไฟล์เสียงจาก YouTube**\n",
        "- คัดลอกลิงก์วิดีโอที่เราต้องการมาใส่ในช่อง **[Youtube]** ด้านล่างได้เลย"
      ],
      "metadata": {
        "id": "5XZ8KaAnnL5Y"
      }
    },
    {
      "cell_type": "code",
      "execution_count": 5,
      "metadata": {
        "id": "BabnQ7cbcP63",
        "cellView": "form",
        "outputId": "823a8e67-99dd-4ace-cf3d-15ba5cf7c3b8",
        "colab": {
          "base_uri": "https://localhost:8080/",
          "height": 356
        }
      },
      "outputs": [
        {
          "output_type": "error",
          "ename": "MessageError",
          "evalue": "Error: credential propagation was unsuccessful",
          "traceback": [
            "\u001b[0;31m---------------------------------------------------------------------------\u001b[0m",
            "\u001b[0;31mMessageError\u001b[0m                              Traceback (most recent call last)",
            "\u001b[0;32m<ipython-input-5-f61ed39550ec>\u001b[0m in \u001b[0;36m<cell line: 0>\u001b[0;34m()\u001b[0m\n\u001b[1;32m      3\u001b[0m \u001b[0;31m#@title Mount Google Drive\u001b[0m\u001b[0;34m\u001b[0m\u001b[0;34m\u001b[0m\u001b[0m\n\u001b[1;32m      4\u001b[0m \u001b[0;32mfrom\u001b[0m \u001b[0mgoogle\u001b[0m\u001b[0;34m.\u001b[0m\u001b[0mcolab\u001b[0m \u001b[0;32mimport\u001b[0m \u001b[0mdrive\u001b[0m\u001b[0;34m\u001b[0m\u001b[0;34m\u001b[0m\u001b[0m\n\u001b[0;32m----> 5\u001b[0;31m \u001b[0mdrive\u001b[0m\u001b[0;34m.\u001b[0m\u001b[0mmount\u001b[0m\u001b[0;34m(\u001b[0m\u001b[0;34m'/content/drive'\u001b[0m\u001b[0;34m)\u001b[0m\u001b[0;34m\u001b[0m\u001b[0;34m\u001b[0m\u001b[0m\n\u001b[0m\u001b[1;32m      6\u001b[0m \u001b[0;34m\u001b[0m\u001b[0m\n\u001b[1;32m      7\u001b[0m \u001b[0;31m#@title Create Directory\u001b[0m\u001b[0;34m\u001b[0m\u001b[0;34m\u001b[0m\u001b[0m\n",
            "\u001b[0;32m/usr/local/lib/python3.11/dist-packages/google/colab/drive.py\u001b[0m in \u001b[0;36mmount\u001b[0;34m(mountpoint, force_remount, timeout_ms, readonly)\u001b[0m\n\u001b[1;32m     98\u001b[0m \u001b[0;32mdef\u001b[0m \u001b[0mmount\u001b[0m\u001b[0;34m(\u001b[0m\u001b[0mmountpoint\u001b[0m\u001b[0;34m,\u001b[0m \u001b[0mforce_remount\u001b[0m\u001b[0;34m=\u001b[0m\u001b[0;32mFalse\u001b[0m\u001b[0;34m,\u001b[0m \u001b[0mtimeout_ms\u001b[0m\u001b[0;34m=\u001b[0m\u001b[0;36m120000\u001b[0m\u001b[0;34m,\u001b[0m \u001b[0mreadonly\u001b[0m\u001b[0;34m=\u001b[0m\u001b[0;32mFalse\u001b[0m\u001b[0;34m)\u001b[0m\u001b[0;34m:\u001b[0m\u001b[0;34m\u001b[0m\u001b[0;34m\u001b[0m\u001b[0m\n\u001b[1;32m     99\u001b[0m   \u001b[0;34m\"\"\"Mount your Google Drive at the specified mountpoint path.\"\"\"\u001b[0m\u001b[0;34m\u001b[0m\u001b[0;34m\u001b[0m\u001b[0m\n\u001b[0;32m--> 100\u001b[0;31m   return _mount(\n\u001b[0m\u001b[1;32m    101\u001b[0m       \u001b[0mmountpoint\u001b[0m\u001b[0;34m,\u001b[0m\u001b[0;34m\u001b[0m\u001b[0;34m\u001b[0m\u001b[0m\n\u001b[1;32m    102\u001b[0m       \u001b[0mforce_remount\u001b[0m\u001b[0;34m=\u001b[0m\u001b[0mforce_remount\u001b[0m\u001b[0;34m,\u001b[0m\u001b[0;34m\u001b[0m\u001b[0;34m\u001b[0m\u001b[0m\n",
            "\u001b[0;32m/usr/local/lib/python3.11/dist-packages/google/colab/drive.py\u001b[0m in \u001b[0;36m_mount\u001b[0;34m(mountpoint, force_remount, timeout_ms, ephemeral, readonly)\u001b[0m\n\u001b[1;32m    135\u001b[0m   )\n\u001b[1;32m    136\u001b[0m   \u001b[0;32mif\u001b[0m \u001b[0mephemeral\u001b[0m\u001b[0;34m:\u001b[0m\u001b[0;34m\u001b[0m\u001b[0;34m\u001b[0m\u001b[0m\n\u001b[0;32m--> 137\u001b[0;31m     _message.blocking_request(\n\u001b[0m\u001b[1;32m    138\u001b[0m         \u001b[0;34m'request_auth'\u001b[0m\u001b[0;34m,\u001b[0m\u001b[0;34m\u001b[0m\u001b[0;34m\u001b[0m\u001b[0m\n\u001b[1;32m    139\u001b[0m         \u001b[0mrequest\u001b[0m\u001b[0;34m=\u001b[0m\u001b[0;34m{\u001b[0m\u001b[0;34m'authType'\u001b[0m\u001b[0;34m:\u001b[0m \u001b[0;34m'dfs_ephemeral'\u001b[0m\u001b[0;34m}\u001b[0m\u001b[0;34m,\u001b[0m\u001b[0;34m\u001b[0m\u001b[0;34m\u001b[0m\u001b[0m\n",
            "\u001b[0;32m/usr/local/lib/python3.11/dist-packages/google/colab/_message.py\u001b[0m in \u001b[0;36mblocking_request\u001b[0;34m(request_type, request, timeout_sec, parent)\u001b[0m\n\u001b[1;32m    174\u001b[0m       \u001b[0mrequest_type\u001b[0m\u001b[0;34m,\u001b[0m \u001b[0mrequest\u001b[0m\u001b[0;34m,\u001b[0m \u001b[0mparent\u001b[0m\u001b[0;34m=\u001b[0m\u001b[0mparent\u001b[0m\u001b[0;34m,\u001b[0m \u001b[0mexpect_reply\u001b[0m\u001b[0;34m=\u001b[0m\u001b[0;32mTrue\u001b[0m\u001b[0;34m\u001b[0m\u001b[0;34m\u001b[0m\u001b[0m\n\u001b[1;32m    175\u001b[0m   )\n\u001b[0;32m--> 176\u001b[0;31m   \u001b[0;32mreturn\u001b[0m \u001b[0mread_reply_from_input\u001b[0m\u001b[0;34m(\u001b[0m\u001b[0mrequest_id\u001b[0m\u001b[0;34m,\u001b[0m \u001b[0mtimeout_sec\u001b[0m\u001b[0;34m)\u001b[0m\u001b[0;34m\u001b[0m\u001b[0;34m\u001b[0m\u001b[0m\n\u001b[0m",
            "\u001b[0;32m/usr/local/lib/python3.11/dist-packages/google/colab/_message.py\u001b[0m in \u001b[0;36mread_reply_from_input\u001b[0;34m(message_id, timeout_sec)\u001b[0m\n\u001b[1;32m    101\u001b[0m     ):\n\u001b[1;32m    102\u001b[0m       \u001b[0;32mif\u001b[0m \u001b[0;34m'error'\u001b[0m \u001b[0;32min\u001b[0m \u001b[0mreply\u001b[0m\u001b[0;34m:\u001b[0m\u001b[0;34m\u001b[0m\u001b[0;34m\u001b[0m\u001b[0m\n\u001b[0;32m--> 103\u001b[0;31m         \u001b[0;32mraise\u001b[0m \u001b[0mMessageError\u001b[0m\u001b[0;34m(\u001b[0m\u001b[0mreply\u001b[0m\u001b[0;34m[\u001b[0m\u001b[0;34m'error'\u001b[0m\u001b[0;34m]\u001b[0m\u001b[0;34m)\u001b[0m\u001b[0;34m\u001b[0m\u001b[0;34m\u001b[0m\u001b[0m\n\u001b[0m\u001b[1;32m    104\u001b[0m       \u001b[0;32mreturn\u001b[0m \u001b[0mreply\u001b[0m\u001b[0;34m.\u001b[0m\u001b[0mget\u001b[0m\u001b[0;34m(\u001b[0m\u001b[0;34m'data'\u001b[0m\u001b[0;34m,\u001b[0m \u001b[0;32mNone\u001b[0m\u001b[0;34m)\u001b[0m\u001b[0;34m\u001b[0m\u001b[0;34m\u001b[0m\u001b[0m\n\u001b[1;32m    105\u001b[0m \u001b[0;34m\u001b[0m\u001b[0m\n",
            "\u001b[0;31mMessageError\u001b[0m: Error: credential propagation was unsuccessful"
          ]
        }
      ],
      "source": [
        "#@title **Installation (รัน Cell นี้ก่อนใช้)**\n",
        "\n",
        "#@title Mount Google Drive\n",
        "from google.colab import drive\n",
        "drive.mount('/content/drive')\n",
        "\n",
        "#@title Create Directory\n",
        "import os\n",
        "os.makedirs('/content/drive/MyDrive/oitsminez-rvc-v2', exist_ok=True)\n",
        "os.makedirs('/content/drive/MyDrive/oitsminez-rvc-v2/song_input', exist_ok=True)\n",
        "os.makedirs('/content/drive/MyDrive/oitsminez-rvc-v2/song_output', exist_ok=True)\n",
        "\n",
        "#@title Clone repository\n",
        "!git clone https://github.com/oItsMineZ/AICoverGen-Mod.git\n",
        "%cd AICoverGen-Mod\n",
        "\n",
        "#@title Install requirements\n",
        "!pip install -q -r requirements.txt\n",
        "!sudo apt update\n",
        "!sudo apt install sox\n",
        "\n",
        "#@title Download MDXNet Vocal Separation and Hubert Base Models\n",
        "!python src/download_models.py"
      ]
    },
    {
      "cell_type": "markdown",
      "metadata": {
        "id": "hIusayJ7cP69"
      },
      "source": [
        "## Use Model"
      ]
    },
    {
      "cell_type": "code",
      "execution_count": null,
      "metadata": {
        "cellView": "form",
        "id": "ExOinMiecyyS"
      },
      "outputs": [],
      "source": [
        "# @title Model Download Function\n",
        "\n",
        "import os\n",
        "import zipfile\n",
        "import shutil\n",
        "import urllib.request\n",
        "\n",
        "BASE_DIR = os.getcwd()\n",
        "rvc_models_dir = os.path.join(BASE_DIR, 'rvc_models')\n",
        "\n",
        "def extract_zip(extraction_folder, zip_name):\n",
        "    os.makedirs(extraction_folder)\n",
        "    with zipfile.ZipFile(zip_name, 'r') as zip_ref:\n",
        "        zip_ref.extractall(extraction_folder)\n",
        "    os.remove(zip_name)\n",
        "    index_filepath, model_filepath = None, None\n",
        "    for root, dirs, files in os.walk(extraction_folder):\n",
        "        for name in files:\n",
        "            if name.endswith('.index') and os.stat(os.path.join(root, name)).st_size > 1024 * 100:\n",
        "                index_filepath = os.path.join(root, name)\n",
        "            if name.endswith('.pth') and os.stat(os.path.join(root, name)).st_size > 1024 * 1024 * 40:\n",
        "                model_filepath = os.path.join(root, name)\n",
        "    if not model_filepath:\n",
        "        raise Exception(f'No .pth model file was found in the extracted zip. Please check {extraction_folder}.')\n",
        "    os.rename(model_filepath, os.path.join(extraction_folder, os.path.basename(model_filepath)))\n",
        "    if index_filepath:\n",
        "        os.rename(index_filepath, os.path.join(extraction_folder, os.path.basename(index_filepath)))\n",
        "    for filepath in os.listdir(extraction_folder):\n",
        "        if os.path.isdir(os.path.join(extraction_folder, filepath)):\n",
        "            shutil.rmtree(os.path.join(extraction_folder, filepath))\n",
        "\n",
        "def download_online_model(url, dir_name):\n",
        "    try:\n",
        "        print(f'[~] Downloading voice model with name {dir_name}...')\n",
        "        zip_name = url.split('/')[-1]\n",
        "        extraction_folder = os.path.join(rvc_models_dir, dir_name)\n",
        "        if 'pixeldrain.com' in url:\n",
        "            url = f'https://pixeldrain.com/api/file/{zip_name}'\n",
        "        urllib.request.urlretrieve(url, zip_name)\n",
        "        print('[~] Extracting zip...')\n",
        "        extract_zip(extraction_folder, zip_name)\n",
        "        print(f'[+] {dir_name} Model successfully downloaded!')\n",
        "    except Exception as e:\n",
        "        if os.path.exists(extraction_folder):\n",
        "            if Select == \"Model List\":\n",
        "              if Model_List in List:\n",
        "                dir_name = List[Model_List][\"dir_name\"]\n",
        "                RVC_DIRNAME = List[Model_List][\"dir_name\"]\n",
        "            elif Select == \"Download Other Model\":\n",
        "              RVC_DIRNAME = {dir_name}\n",
        "\n",
        "# @title Choose Model\n",
        "# @markdown เลือก Mode - (***Model List*** คือเลือก Model ที่มีไว้ให้ ส่วน ***Download Other Model*** คือ Download โมเดลอี่นๆมาใช้แทน)\n",
        "Select = \"Model List\"  # @param [\"Model List\", \"Download Other Model\"]\n",
        "\n",
        "# @markdown **[Model List]** เลือก Model ที่ต้องการ\n",
        "Model_List = \"DaengGuitar\"  # @param [\"DaengGuitar\", \"TAE\", \"ท่านศาสดา\"]\n",
        "\n",
        "List = {\n",
        "    \"DaengGuitar\": {\n",
        "        \"dir_name\": \"DaengGuitar\",\n",
        "        \"url\": \"https://huggingface.co/oItsMineZ/oItsMineZ-RVC-Model/resolve/main/DaengGuitar/DaengGuitar.zip?download=true\",\n",
        "    },\n",
        "    \"TAE\": {\n",
        "        \"dir_name\": \"TAEEXZENFIRE\",\n",
        "        \"url\": \"https://huggingface.co/oItsMineZ/oItsMineZ-RVC-Model/resolve/main/TAEEXZENFIRE/TAEEXZENFIRE.zip?download=true\",\n",
        "    },\n",
        "    \"ท่านศาสดา\": {\n",
        "        \"dir_name\": \"Sadsada\",\n",
        "        \"url\": \"https://huggingface.co/oItsMineZ/oItsMineZ-RVC-Model/resolve/main/Sadsada/Sadsada.zip?download=true\",\n",
        "    }\n",
        "}\n",
        "\n",
        "if Select == \"Model List\":\n",
        "    if Model_List in List:\n",
        "        dir_name = List[Model_List][\"dir_name\"]\n",
        "        RVC_DIRNAME = List[Model_List][\"dir_name\"]\n",
        "        url = List[Model_List][\"url\"]\n",
        "elif Select == \"Download Other Model\":\n",
        "    #@markdown **[Download Other Model]** สำหรับใช้ Model อื่นๆ ที่ไม่มีใน List (เฉพาะไฟล์ .zip เท่านั้น!)\n",
        "    url = \"https://pixeldrain.com/u/3tJmABXA\"  # @param {type:\"string\"}\n",
        "    dir_name = \"Gura\"  # @param {type:\"string\"}\n",
        "\n",
        "download_online_model(url, dir_name)"
      ]
    },
    {
      "cell_type": "code",
      "source": [
        "# @title Generate | Output generated inside \"drive\\MyDrive\\oitsminez-rvc-v2\\song_output\\random_number\"\n",
        "\n",
        "# @markdown เลือก Mode - (***Audio File*** คือใช้ไฟล์เสียงใน Google Drive ของเรา ส่วน ***Youtube*** คือใช้ไฟล์เสียงจาก Youtube โดยตรง)\n",
        "Select = \"Audio File\"  # @param [\"Audio File\", \"Youtube\"]\n",
        "\n",
        "if Select == \"Audio File\":\n",
        "    #@markdown **[Audio File]** ใส่ชื่อเดี่ยวกับไฟล์เสียงที่อัปโหลดใน Google Drive เช่น Vocal.wav ให้ใส่ \"Vocal.wav\"\n",
        "    VOCAL_NAME = \"Vocal.wav\" #@param {type: \"string\"}\n",
        "    VOCAL_PATH = '/content/drive/MyDrive/oitsminez-rvc-v2/song_input/'\n",
        "    SONG_INPUT = os.path.join(VOCAL_PATH, VOCAL_NAME)\n",
        "elif Select == \"Youtube\":\n",
        "    #@markdown **[Youtube]** ใส่ลิงก์ยูทูป\n",
        "    SONG_INPUT = \"https://www.youtube.com/watch?v=jgCVkQhlScc&pp=ygUFY3VwaWQ%3D\" # @param {type:\"string\"}\n",
        "\n",
        "# @markdown Main Option\n",
        "PITCH_CHANGE = 0 # @param {type:\"integer\"}\n",
        "PITCH_CHANGE_ALL = 0 # @param {type:\"integer\"}\n",
        "# @markdown Voice Conversion Options\n",
        "INDEX_RATE = 0.5 # @param {type:\"number\"}\n",
        "FILTER_RADIUS = 3 # @param {type:\"integer\"}\n",
        "PITCH_DETECTION_ALGO = \"rmvpe\" # @param [\"rmvpe\", \"mangio-crepe\"]\n",
        "CREPE_HOP_LENGTH = 128 # @param {type:\"integer\"}\n",
        "PROTECT = 0.33 # @param {type:\"number\"}\n",
        "REMIX_MIX_RATE = 0.25  # @param {type:\"number\"}\n",
        "# @markdown Audio Mixing Options\n",
        "MAIN_VOL = 0 # @param {type:\"integer\"}\n",
        "BACKUP_VOL = 0 # @param {type:\"integer\"}\n",
        "INST_VOL = 0 # @param {type:\"integer\"}\n",
        "# @markdown Reverb Control\n",
        "REVERB_SIZE = 0.15 # @param {type:\"number\"}\n",
        "REVERB_WETNESS = 0.2 # @param {type:\"number\"}\n",
        "REVERB_DRYNESS = 0.8 # @param {type:\"number\"}\n",
        "REVERB_DAMPING = 0.7 # @param {type:\"number\"}\n",
        "# @markdown Output Format\n",
        "OUTPUT_FORMAT = \"mp3\" # @param [\"mp3\", \"wav\"]\n",
        "\n",
        "import subprocess\n",
        "\n",
        "command = [\n",
        "    \"python\",\n",
        "    \"src/main.py\",\n",
        "    \"-i\", SONG_INPUT,\n",
        "    \"-dir\", RVC_DIRNAME,\n",
        "    \"-p\", str(PITCH_CHANGE),\n",
        "    \"-k\",\n",
        "    \"-ir\", str(INDEX_RATE),\n",
        "    \"-fr\", str(FILTER_RADIUS),\n",
        "    \"-rms\", str(REMIX_MIX_RATE),\n",
        "    \"-palgo\", PITCH_DETECTION_ALGO,\n",
        "    \"-hop\", str(CREPE_HOP_LENGTH),\n",
        "    \"-pro\", str(PROTECT),\n",
        "    \"-mv\", str(MAIN_VOL),\n",
        "    \"-bv\", str(BACKUP_VOL),\n",
        "    \"-iv\", str(INST_VOL),\n",
        "    \"-pall\", str(PITCH_CHANGE_ALL),\n",
        "    \"-rsize\", str(REVERB_SIZE),\n",
        "    \"-rwet\", str(REVERB_WETNESS),\n",
        "    \"-rdry\", str(REVERB_DRYNESS),\n",
        "    \"-rdamp\", str(REVERB_DAMPING),\n",
        "    \"-oformat\", OUTPUT_FORMAT\n",
        "]\n",
        "\n",
        "# Open a subprocess and capture its output\n",
        "process = subprocess.Popen(command, stdout=subprocess.PIPE, stderr=subprocess.STDOUT, universal_newlines=True)\n",
        "\n",
        "# Print the output in real-time\n",
        "for line in process.stdout:\n",
        "    print(line, end='')\n",
        "\n",
        "# Wait for the process to finish\n",
        "process.wait()"
      ],
      "metadata": {
        "cellView": "form",
        "id": "EX8NJCTCiUf-"
      },
      "execution_count": null,
      "outputs": []
    }
  ],
  "metadata": {
    "accelerator": "GPU",
    "colab": {
      "provenance": []
    },
    "gpuClass": "standard",
    "kernelspec": {
      "display_name": "Python 3",
      "name": "python3"
    },
    "language_info": {
      "codemirror_mode": {
        "name": "ipython",
        "version": 3
      },
      "file_extension": ".py",
      "mimetype": "text/x-python",
      "name": "python",
      "nbconvert_exporter": "python",
      "pygments_lexer": "ipython3",
      "version": "3.10.10"
    }
  },
  "nbformat": 4,
  "nbformat_minor": 0
}